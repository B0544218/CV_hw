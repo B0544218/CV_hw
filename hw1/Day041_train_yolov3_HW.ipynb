{
  "nbformat": 4,
  "nbformat_minor": 0,
  "metadata": {
    "colab": {
      "name": "accupass2.ipynb",
      "provenance": [],
      "collapsed_sections": []
    },
    "kernelspec": {
      "name": "python3",
      "display_name": "Python 3"
    },
    "accelerator": "GPU"
  },
  "cells": [
    {
      "cell_type": "code",
      "metadata": {
        "id": "GkpDJy96kHUp",
        "colab_type": "code",
        "colab": {
          "base_uri": "https://localhost:8080/",
          "height": 35
        },
        "outputId": "d8cff701-1a90-424f-cb43-a565d6f303de"
      },
      "source": [
        "# %tensorflow_version 1.x # 確保 colob 中使用的 tensorflow 是 1.x 版本而不是 tensorflow 2\n",
        "import tensorflow as tf\n",
        "print(tf.__version__)"
      ],
      "execution_count": 47,
      "outputs": [
        {
          "output_type": "stream",
          "text": [
            "1.15.2\n"
          ],
          "name": "stdout"
        }
      ]
    },
    {
      "cell_type": "code",
      "metadata": {
        "id": "HJ6lkcYav0cn",
        "colab_type": "code",
        "colab": {}
      },
      "source": [
        "pip install keras==2.2.4 # 需要安裝 keras 2.2.4 的版本\n"
      ],
      "execution_count": null,
      "outputs": []
    },
    {
      "cell_type": "code",
      "metadata": {
        "id": "EQfT74inv2C9",
        "colab_type": "code",
        "colab": {}
      },
      "source": [
        "from google.colab import drive \n",
        "drive.mount('/content/gdrive') # 將 google drive 掛載在 colob，\n",
        "# 下載基於 keras 的 yolov3 程式碼\n",
        "%cd 'gdrive/My Drive'\n",
        "# !git clone https://github.com/qqwweee/keras-yolo3 # 如果之前已經下載過就可以註解掉\n",
        "%cd keras-yolo3"
      ],
      "execution_count": null,
      "outputs": []
    },
    {
      "cell_type": "code",
      "metadata": {
        "id": "tS7Tjjqrwgr0",
        "colab_type": "code",
        "colab": {}
      },
      "source": [
        "from PIL import Image\n",
        "image = Image.open('dog.jpg') "
      ],
      "execution_count": null,
      "outputs": []
    },
    {
      "cell_type": "code",
      "metadata": {
        "id": "MVHbWaokxDBb",
        "colab_type": "code",
        "colab": {}
      },
      "source": [
        "'''\n",
        "\n",
        "1. 根據https://github.com/qqwweee/keras-yolo3， 執行convert.py -w\n",
        "把 YOLO weights 檔轉為keras訓練用模型，再以此keras模型繼續訓練自己的資料集。\n",
        "\n",
        "2.VOC2007 格式所產生標註檔（.xml）內容為PASCAL格式，轉換為訓練模型時需要的格式(這裡的格式是yolo)，主要表示物件框的方式為左上（xmin、ymin）及右下（xmax、ymax）座標。\n",
        "轉換時依data set檔（.txt），將個別標註檔（*.xml）轉換成物件編號加上物件框中心座標及尺寸格式後，再寫至另一個.txt檔。\n",
        "\n",
        "\n",
        "'''"
      ],
      "execution_count": null,
      "outputs": []
    }
  ]
}