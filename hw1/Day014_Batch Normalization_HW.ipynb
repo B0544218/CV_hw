{
  "nbformat": 4,
  "nbformat_minor": 0,
  "metadata": {
    "colab": {
      "name": "accupass2.ipynb",
      "provenance": [],
      "collapsed_sections": []
    },
    "kernelspec": {
      "name": "python3",
      "display_name": "Python 3"
    }
  },
  "cells": [
    {
      "cell_type": "code",
      "metadata": {
        "id": "wfttRH929zIl",
        "colab_type": "code",
        "colab": {
          "base_uri": "https://localhost:8080/",
          "height": 399
        },
        "outputId": "cf570e65-efa3-4b4a-96b5-cb7a8e2aafc8"
      },
      "source": [
        "from keras.models import Sequential  #用來啟動 NN\n",
        "from keras.layers import Conv2D  # Convolution Operation\n",
        "from keras.layers import MaxPooling2D # Pooling\n",
        "from keras.layers import Flatten\n",
        "from keras.layers import Dense # Fully Connected Networks\n",
        "from keras.layers import BatchNormalization\n",
        "from keras.layers import Activation\n",
        "\n",
        "input_shape = (32, 32, 3)\n",
        "model = Sequential()\n",
        "##  Conv2D-BN-Activation('sigmoid') \n",
        "#BatchNormalization主要參數：\n",
        "#momentum: Momentum for the moving mean and the moving variance.\n",
        "#epsilon: Small float added to variance to avoid dividing by zero.\n",
        "\n",
        "model.add(Conv2D(32, (3, 3), input_shape=input_shape))\n",
        "model.add(BatchNormalization()) \n",
        "model.add(Activation('sigmoid'))\n",
        "\n",
        "\n",
        "##、 Conv2D-BN-Activation('relu')\n",
        "model.add(Conv2D(32, (3, 3), input_shape=input_shape))\n",
        "model.add(BatchNormalization()) \n",
        "model.add(Activation('relu'))\n",
        "\n",
        "model.summary()"
      ],
      "execution_count": 1,
      "outputs": [
        {
          "output_type": "stream",
          "text": [
            "Using TensorFlow backend.\n"
          ],
          "name": "stderr"
        },
        {
          "output_type": "stream",
          "text": [
            "Model: \"sequential_1\"\n",
            "_________________________________________________________________\n",
            "Layer (type)                 Output Shape              Param #   \n",
            "=================================================================\n",
            "conv2d_1 (Conv2D)            (None, 30, 30, 32)        896       \n",
            "_________________________________________________________________\n",
            "batch_normalization_1 (Batch (None, 30, 30, 32)        128       \n",
            "_________________________________________________________________\n",
            "activation_1 (Activation)    (None, 30, 30, 32)        0         \n",
            "_________________________________________________________________\n",
            "conv2d_2 (Conv2D)            (None, 28, 28, 32)        9248      \n",
            "_________________________________________________________________\n",
            "batch_normalization_2 (Batch (None, 28, 28, 32)        128       \n",
            "_________________________________________________________________\n",
            "activation_2 (Activation)    (None, 28, 28, 32)        0         \n",
            "=================================================================\n",
            "Total params: 10,400\n",
            "Trainable params: 10,272\n",
            "Non-trainable params: 128\n",
            "_________________________________________________________________\n"
          ],
          "name": "stdout"
        }
      ]
    }
  ]
}