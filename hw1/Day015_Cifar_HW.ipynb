{
  "nbformat": 4,
  "nbformat_minor": 0,
  "metadata": {
    "colab": {
      "name": "accupass2.ipynb",
      "provenance": [],
      "collapsed_sections": []
    },
    "kernelspec": {
      "name": "python3",
      "display_name": "Python 3"
    }
  },
  "cells": [
    {
      "cell_type": "code",
      "metadata": {
        "id": "wfttRH929zIl",
        "colab_type": "code",
        "colab": {
          "base_uri": "https://localhost:8080/",
          "height": 72
        },
        "outputId": "93a8c5e8-e7a8-4b81-97b0-ba86a5c3181d"
      },
      "source": [
        "from keras.models import Sequential\n",
        "from keras.layers import Convolution2D\n",
        "from keras.layers import MaxPooling2D\n",
        "from keras.layers import Flatten\n",
        "from keras.layers import Dense\n",
        "from keras.layers import Dropout\n",
        "from keras.layers import BatchNormalization\n",
        "from keras.datasets import cifar10\n",
        "import numpy as np\n",
        "import tensorflow as tf\n",
        "from sklearn.preprocessing import OneHotEncoder\n",
        "\n",
        "(x_train, y_train), (x_test, y_test) = cifar10.load_data()\n",
        "\n",
        "print(x_train.shape) #(50000, 32, 32, 3)\n"
      ],
      "execution_count": 2,
      "outputs": [
        {
          "output_type": "stream",
          "text": [
            "Downloading data from https://www.cs.toronto.edu/~kriz/cifar-10-python.tar.gz\n",
            "170500096/170498071 [==============================] - 2s 0us/step\n",
            "(50000, 32, 32, 3)\n"
          ],
          "name": "stdout"
        }
      ]
    },
    {
      "cell_type": "code",
      "metadata": {
        "id": "m2hGuEeG2lKP",
        "colab_type": "code",
        "colab": {}
      },
      "source": [
        "## Normalize Data\n",
        "def normalize(X_train,X_test):\n",
        "        mean = np.mean(X_train,axis=(0,1,2,3))\n",
        "        std = np.std(X_train, axis=(0, 1, 2, 3))\n",
        "        X_train = (X_train-mean)/(std+1e-7)\n",
        "        X_test = (X_test-mean)/(std+1e-7) \n",
        "        return X_train, X_test,mean,std\n",
        "    \n",
        "    \n",
        "## Normalize Training and Testset    \n",
        "x_train, x_test,mean_train,std_train = normalize(x_train, x_test) "
      ],
      "execution_count": 3,
      "outputs": []
    },
    {
      "cell_type": "code",
      "metadata": {
        "id": "7fpTK8xl22z1",
        "colab_type": "code",
        "colab": {}
      },
      "source": [
        "## OneHot Label 由(None, 1)-(None, 10)\n",
        "## ex. label=2,變成[0,0,1,0,0,0,0,0,0,0]\n",
        "one_hot=OneHotEncoder()\n",
        "y_train=one_hot.fit_transform(y_train).toarray()\n",
        "y_test=one_hot.transform(y_test).toarray()"
      ],
      "execution_count": 4,
      "outputs": []
    },
    {
      "cell_type": "code",
      "metadata": {
        "id": "qIoyDcl03GU8",
        "colab_type": "code",
        "colab": {
          "base_uri": "https://localhost:8080/",
          "height": 399
        },
        "outputId": "69362739-0776-41f4-ef06-0cce0e2e46f4"
      },
      "source": [
        "classifier=Sequential()\n",
        "\n",
        "#卷積組合\n",
        "classifier.add(Conv2D(32, (3,3) ,input_shape=(32,32,3),activation='relu'))\n",
        "classifier.add(BatchNormalization())\n",
        "\n",
        "'''自己決定MaxPooling2D放在哪裡'''\n",
        "classifier.add(MaxPooling2D(pool_size=(2,2)))\n",
        "\n",
        "#卷積組合\n",
        "classifier.add(Conv2D(64, (3,3) ,activation='relu'))\n",
        "classifier.add(BatchNormalization())\n",
        "\n",
        "#flatten\n",
        "classifier.add(Flatten())\n",
        "\n",
        "#FC\n",
        "classifier.add(Dense(units=100,activation='relu'))\n",
        "\n",
        "#輸出\n",
        "classifier.add(Dense(units=10,activation='softmax'))\n",
        "\n",
        "#超過兩個就要選categorical_crossentrophy\n",
        "classifier.compile(optimizer = 'adam', loss = 'categorical_crossentropy', metrics = ['accuracy'])\n",
        "classifier.fit(x_train,y_train,batch_size=512,epochs=10)"
      ],
      "execution_count": 5,
      "outputs": [
        {
          "output_type": "stream",
          "text": [
            "Epoch 1/10\n",
            "50000/50000 [==============================] - 85s 2ms/step - loss: 1.4929 - accuracy: 0.5200\n",
            "Epoch 2/10\n",
            "50000/50000 [==============================] - 84s 2ms/step - loss: 0.7895 - accuracy: 0.7291\n",
            "Epoch 3/10\n",
            "50000/50000 [==============================] - 94s 2ms/step - loss: 0.4732 - accuracy: 0.8414\n",
            "Epoch 4/10\n",
            "50000/50000 [==============================] - 101s 2ms/step - loss: 0.2605 - accuracy: 0.9220\n",
            "Epoch 5/10\n",
            "50000/50000 [==============================] - 84s 2ms/step - loss: 0.1364 - accuracy: 0.9657\n",
            "Epoch 6/10\n",
            "50000/50000 [==============================] - 82s 2ms/step - loss: 0.0564 - accuracy: 0.9917\n",
            "Epoch 7/10\n",
            "50000/50000 [==============================] - 82s 2ms/step - loss: 0.0228 - accuracy: 0.9986\n",
            "Epoch 8/10\n",
            "50000/50000 [==============================] - 85s 2ms/step - loss: 0.0102 - accuracy: 0.9999\n",
            "Epoch 9/10\n",
            "50000/50000 [==============================] - 83s 2ms/step - loss: 0.0055 - accuracy: 1.0000\n",
            "Epoch 10/10\n",
            "50000/50000 [==============================] - 82s 2ms/step - loss: 0.0039 - accuracy: 1.0000\n"
          ],
          "name": "stdout"
        },
        {
          "output_type": "execute_result",
          "data": {
            "text/plain": [
              "<keras.callbacks.callbacks.History at 0x7fbeccb1bcc0>"
            ]
          },
          "metadata": {
            "tags": []
          },
          "execution_count": 5
        }
      ]
    },
    {
      "cell_type": "code",
      "metadata": {
        "id": "fhj25hl8brqY",
        "colab_type": "code",
        "colab": {
          "base_uri": "https://localhost:8080/",
          "height": 72
        },
        "outputId": "a1c44b02-affc-437c-9f21-a218026f10b5"
      },
      "source": [
        "input_example=(np.zeros(shape=(1,32,32,3))-mean_train)/(std_train+1e-7) \n",
        "classifier.predict(input_example)"
      ],
      "execution_count": 9,
      "outputs": [
        {
          "output_type": "execute_result",
          "data": {
            "text/plain": [
              "array([[1.4283854e-02, 3.2461710e-05, 8.5711055e-02, 8.9791018e-01,\n",
              "        1.3307162e-03, 1.0667136e-08, 9.2445212e-08, 4.0042298e-05,\n",
              "        6.9166400e-04, 4.4310205e-08]], dtype=float32)"
            ]
          },
          "metadata": {
            "tags": []
          },
          "execution_count": 9
        }
      ]
    }
  ]
}