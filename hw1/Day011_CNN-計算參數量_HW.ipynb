{
  "nbformat": 4,
  "nbformat_minor": 0,
  "metadata": {
    "colab": {
      "name": "accupass2.ipynb",
      "provenance": [],
      "collapsed_sections": []
    },
    "kernelspec": {
      "name": "python3",
      "display_name": "Python 3"
    }
  },
  "cells": [
    {
      "cell_type": "code",
      "metadata": {
        "id": "wfttRH929zIl",
        "colab_type": "code",
        "colab": {
          "base_uri": "https://localhost:8080/",
          "height": 35
        },
        "outputId": "75d85a14-a7d8-45a3-d8d0-ac33325a9d8f"
      },
      "source": [
        "from keras.models import Sequential\n",
        "from keras.layers import Convolution2D\n",
        "from keras.layers import Input, Dense\n",
        "from keras.models import Model"
      ],
      "execution_count": 1,
      "outputs": [
        {
          "output_type": "stream",
          "text": [
            "Using TensorFlow backend.\n"
          ],
          "name": "stderr"
        }
      ]
    },
    {
      "cell_type": "code",
      "metadata": {
        "id": "AvdKvrTJ-L5n",
        "colab_type": "code",
        "colab": {
          "base_uri": "https://localhost:8080/",
          "height": 490
        },
        "outputId": "8ab0b434-8fb4-4326-d299-6eb6bd8be8c3"
      },
      "source": [
        "##輸入照片尺寸==28*28*1\n",
        "##都用一層，288個神經元\n",
        "\n",
        "##建造一個一層的CNN層\n",
        "classifier=Sequential()\n",
        "\n",
        "##Kernel size 3*3，用32張，輸入大小28*28*1\n",
        "classifier.add(Convolution2D(32, 3, 3, input_shape=(28, 28, 1))) #'''32張Kernel，大小為3*3，輸入尺寸為28*28*1'''\n",
        "##看看model結構\n",
        "print(classifier.summary())\n",
        "#'''理解輸出Total params為何==320'''  => (3*3*1+1)*32\n",
        "\n",
        "##建造一個一層的FC層\n",
        "classifier=Sequential()\n",
        "##輸入為28*28*1攤平==784\n",
        "inputs = Input(shape=(784,))  #'''輸入尺寸為28*28*1'''\n",
        "##CNN中用了(3*3*1)*32個神經元，我們這邊也用相同神經元數量\n",
        "x=Dense(288)(inputs)  #'''使用288個神經元'''\n",
        "model = Model(inputs=inputs, outputs=x)\n",
        "##看看model結構\n",
        "print(model.summary())  #'''理解輸出Total params為何==226080'' => 784*288 + 784\n",
        "##大家可以自己變換設定看看參數變化\n"
      ],
      "execution_count": 5,
      "outputs": [
        {
          "output_type": "stream",
          "text": [
            "Model: \"sequential_7\"\n",
            "_________________________________________________________________\n",
            "Layer (type)                 Output Shape              Param #   \n",
            "=================================================================\n",
            "conv2d_4 (Conv2D)            (None, 26, 26, 32)        320       \n",
            "=================================================================\n",
            "Total params: 320\n",
            "Trainable params: 320\n",
            "Non-trainable params: 0\n",
            "_________________________________________________________________\n",
            "None\n",
            "Model: \"model_3\"\n",
            "_________________________________________________________________\n",
            "Layer (type)                 Output Shape              Param #   \n",
            "=================================================================\n",
            "input_3 (InputLayer)         (None, 784)               0         \n",
            "_________________________________________________________________\n",
            "dense_3 (Dense)              (None, 288)               226080    \n",
            "=================================================================\n",
            "Total params: 226,080\n",
            "Trainable params: 226,080\n",
            "Non-trainable params: 0\n",
            "_________________________________________________________________\n",
            "None\n"
          ],
          "name": "stdout"
        },
        {
          "output_type": "stream",
          "text": [
            "/usr/local/lib/python3.6/dist-packages/ipykernel_launcher.py:8: UserWarning: Update your `Conv2D` call to the Keras 2 API: `Conv2D(32, (3, 3), input_shape=(28, 28, 1...)`\n",
            "  \n"
          ],
          "name": "stderr"
        }
      ]
    }
  ]
}