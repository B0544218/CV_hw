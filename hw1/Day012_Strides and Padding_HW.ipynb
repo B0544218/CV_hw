{
  "nbformat": 4,
  "nbformat_minor": 0,
  "metadata": {
    "colab": {
      "name": "accupass2.ipynb",
      "provenance": [],
      "collapsed_sections": []
    },
    "kernelspec": {
      "name": "python3",
      "display_name": "Python 3"
    }
  },
  "cells": [
    {
      "cell_type": "code",
      "metadata": {
        "id": "wfttRH929zIl",
        "colab_type": "code",
        "colab": {
          "base_uri": "https://localhost:8080/",
          "height": 890
        },
        "outputId": "412de9ed-826b-43b5-9ac5-8c2a79d96e7e"
      },
      "source": [
        "from keras.models import Sequential\n",
        "from keras.layers import Convolution2D\n",
        "from keras.layers import Input, Dense\n",
        "from keras.models import Model\n",
        "##kernel size=(6,6)\n",
        "##kernel數量：32\n",
        "\n",
        "## Same padding、strides=(1,1)\n",
        "classifier=Sequential()\n",
        "inputs = Input(shape=(13,13,1))\n",
        "x=Convolution2D(32,(6,6),strides=(1,1),padding='same')(inputs)\n",
        "model = Model(inputs=inputs, outputs=x)\n",
        "model.summary()\n",
        "## Same padding、strides=(2,2)\n",
        "classifier=Sequential()\n",
        "inputs = Input(shape=(13,13,1))\n",
        "x=Convolution2D(32,(6,6),strides=(2,2),padding='same')(inputs)\n",
        "model = Model(inputs=inputs, outputs=x)\n",
        "model.summary()\n",
        "## Valid padding、strides=(1,1)\n",
        "classifier=Sequential()\n",
        "inputs = Input(shape=(13,13,1))\n",
        "x=Convolution2D(32,(6,6),strides=(1,1),padding='valid')(inputs)\n",
        "model = Model(inputs=inputs, outputs=x)\n",
        "model.summary()\n",
        "## Valid padding、strides=(2,2)\n",
        "classifier=Sequential()\n",
        "inputs = Input(shape=(13,13,1))\n",
        "x=Convolution2D(32,(6,6),strides=(2,2),padding='valid')(inputs)\n",
        "model = Model(inputs=inputs, outputs=x)\n",
        "model.summary()"
      ],
      "execution_count": 11,
      "outputs": [
        {
          "output_type": "stream",
          "text": [
            "Model: \"model_12\"\n",
            "_________________________________________________________________\n",
            "Layer (type)                 Output Shape              Param #   \n",
            "=================================================================\n",
            "input_12 (InputLayer)        (None, 13, 13, 1)         0         \n",
            "_________________________________________________________________\n",
            "conv2d_13 (Conv2D)           (None, 13, 13, 32)        1184      \n",
            "=================================================================\n",
            "Total params: 1,184\n",
            "Trainable params: 1,184\n",
            "Non-trainable params: 0\n",
            "_________________________________________________________________\n",
            "Model: \"model_13\"\n",
            "_________________________________________________________________\n",
            "Layer (type)                 Output Shape              Param #   \n",
            "=================================================================\n",
            "input_13 (InputLayer)        (None, 13, 13, 1)         0         \n",
            "_________________________________________________________________\n",
            "conv2d_14 (Conv2D)           (None, 7, 7, 32)          1184      \n",
            "=================================================================\n",
            "Total params: 1,184\n",
            "Trainable params: 1,184\n",
            "Non-trainable params: 0\n",
            "_________________________________________________________________\n",
            "Model: \"model_14\"\n",
            "_________________________________________________________________\n",
            "Layer (type)                 Output Shape              Param #   \n",
            "=================================================================\n",
            "input_14 (InputLayer)        (None, 13, 13, 1)         0         \n",
            "_________________________________________________________________\n",
            "conv2d_15 (Conv2D)           (None, 8, 8, 32)          1184      \n",
            "=================================================================\n",
            "Total params: 1,184\n",
            "Trainable params: 1,184\n",
            "Non-trainable params: 0\n",
            "_________________________________________________________________\n",
            "Model: \"model_15\"\n",
            "_________________________________________________________________\n",
            "Layer (type)                 Output Shape              Param #   \n",
            "=================================================================\n",
            "input_15 (InputLayer)        (None, 13, 13, 1)         0         \n",
            "_________________________________________________________________\n",
            "conv2d_16 (Conv2D)           (None, 4, 4, 32)          1184      \n",
            "=================================================================\n",
            "Total params: 1,184\n",
            "Trainable params: 1,184\n",
            "Non-trainable params: 0\n",
            "_________________________________________________________________\n"
          ],
          "name": "stdout"
        }
      ]
    }
  ]
}