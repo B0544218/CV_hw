{
  "nbformat": 4,
  "nbformat_minor": 0,
  "metadata": {
    "colab": {
      "name": "accupass2.ipynb",
      "provenance": [],
      "collapsed_sections": []
    },
    "kernelspec": {
      "name": "python3",
      "display_name": "Python 3"
    },
    "accelerator": "GPU"
  },
  "cells": [
    {
      "cell_type": "code",
      "metadata": {
        "id": "aoLkdSbnZebZ",
        "colab_type": "code",
        "colab": {
          "base_uri": "https://localhost:8080/",
          "height": 35
        },
        "outputId": "94c997d7-a068-4458-896e-27e1738db6c9"
      },
      "source": [
        "'''\n",
        "Bbox寬高計算損失方式相較於Bbox中心計算損失方式，預測值及真實值多開一次根號。\n",
        "較大的物體所傳遞的誤差值較大。 容易使大物體辨識能力較差。，因此透過開根號修正情形。\n",
        "\n",
        "透過開根號，大物體的寬高<小物體的寬高的預測誤差量，\n",
        "達到大小物件接近的辨識能力。\n",
        "\n",
        "'''"
      ],
      "execution_count": 1,
      "outputs": [
        {
          "output_type": "execute_result",
          "data": {
            "application/vnd.google.colaboratory.intrinsic": {
              "type": "string"
            },
            "text/plain": [
              "'\\n變高\\n'"
            ]
          },
          "metadata": {
            "tags": []
          },
          "execution_count": 1
        }
      ]
    },
    {
      "cell_type": "code",
      "metadata": {
        "id": "lapukIrVYY2s",
        "colab_type": "code",
        "colab": {}
      },
      "source": [
        ""
      ],
      "execution_count": null,
      "outputs": []
    }
  ]
}