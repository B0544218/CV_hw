{
  "nbformat": 4,
  "nbformat_minor": 0,
  "metadata": {
    "colab": {
      "name": "accupass2.ipynb",
      "provenance": [],
      "collapsed_sections": []
    },
    "kernelspec": {
      "name": "python3",
      "display_name": "Python 3"
    }
  },
  "cells": [
    {
      "cell_type": "code",
      "metadata": {
        "id": "wfttRH929zIl",
        "colab_type": "code",
        "colab": {
          "base_uri": "https://localhost:8080/",
          "height": 490
        },
        "outputId": "0928c5c4-f5ed-45d0-ba67-5e280805f2e1"
      },
      "source": [
        "from keras.models import Sequential  #用來啟動 NN\n",
        "from keras.layers import Conv2D  # Convolution Operation\n",
        "from keras.layers import MaxPooling2D # Pooling\n",
        "from keras.layers import Flatten\n",
        "from keras.layers import Dense # Fully Connected Networks\n",
        "\n",
        "input_shape = (32, 32, 3)\n",
        "\n",
        "model = Sequential()\n",
        "# param : (3*3(kernel_size)*3(input_shape的kernel)+1(bias))) 因為有32個filter\n",
        "model.add(Conv2D(32, kernel_size=(3, 3), padding='same',input_shape=input_shape))\n",
        "model.add(MaxPooling2D())  ##pooling_size=2,2 strides=2,2 輸出feature map 大小為多少？\n",
        "\n",
        "# param : (3*3(kernel_size)*32(input_shape的kernel，上一層)+1(bias))) 因為有64個filter\n",
        "model.add(Conv2D(64, kernel_size=(3, 3), padding='same'))\n",
        "model.add(MaxPooling2D())##pooling_size=2,2 strides=2,2 輸出feature map 大小為多少？\n",
        "\n",
        "# param : (3*3(kernel_size)*64(input_shape的kernel，上一層)+1(bias))) 因為有128個filter\n",
        "model.add(Conv2D(128, kernel_size=(3, 3), padding='same'))\n",
        "model.add(MaxPooling2D())##pooling_size=1,1 strides=1,1 輸出feature map 大小為多少？\n",
        "\n",
        "# param : (3*3(kernel_size)*128(input_shape的kernel，上一層)+1(bias))) 因為有10個filter\n",
        "model.add(Conv2D(10, kernel_size=(3, 3), padding='same'))\n",
        "\n",
        "model.add(Flatten()) ##Flatten完尺寸如何變化？\n",
        "#model.add(GlobalAveragePooling2D()) #關掉Flatten，使用GlobalAveragePooling2D，完尺寸如何變化？\n",
        "\n",
        "# param : 160(input)*28(output_weight)+28(bias)\n",
        "model.add(Dense(28)) ##全連接層使用28個units\n",
        "model.summary()"
      ],
      "execution_count": 23,
      "outputs": [
        {
          "output_type": "stream",
          "text": [
            "Model: \"sequential_34\"\n",
            "_________________________________________________________________\n",
            "Layer (type)                 Output Shape              Param #   \n",
            "=================================================================\n",
            "conv2d_45 (Conv2D)           (None, 32, 32, 32)        896       \n",
            "_________________________________________________________________\n",
            "max_pooling2d_22 (MaxPooling (None, 16, 16, 32)        0         \n",
            "_________________________________________________________________\n",
            "conv2d_46 (Conv2D)           (None, 16, 16, 64)        18496     \n",
            "_________________________________________________________________\n",
            "max_pooling2d_23 (MaxPooling (None, 8, 8, 64)          0         \n",
            "_________________________________________________________________\n",
            "conv2d_47 (Conv2D)           (None, 8, 8, 128)         73856     \n",
            "_________________________________________________________________\n",
            "max_pooling2d_24 (MaxPooling (None, 4, 4, 128)         0         \n",
            "_________________________________________________________________\n",
            "conv2d_48 (Conv2D)           (None, 4, 4, 10)          11530     \n",
            "_________________________________________________________________\n",
            "flatten_6 (Flatten)          (None, 160)               0         \n",
            "_________________________________________________________________\n",
            "dense_11 (Dense)             (None, 28)                4508      \n",
            "=================================================================\n",
            "Total params: 109,286\n",
            "Trainable params: 109,286\n",
            "Non-trainable params: 0\n",
            "_________________________________________________________________\n"
          ],
          "name": "stdout"
        }
      ]
    }
  ]
}